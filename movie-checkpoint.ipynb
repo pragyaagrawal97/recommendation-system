{
 "cells": [
  {
   "cell_type": "code",
   "execution_count": null,
   "id": "9ded5436",
   "metadata": {},
   "outputs": [],
   "source": [
    "#import Pandas\n",
    "import pandas as pd\n",
    "\n",
    "#specifiying the dataset file path\n",
    "path = \"C:/Users/pragy/Downloads/Sample_Data\"\n",
    "\n",
    "#load credit dataset\n",
    "credits_df = pd.read_csv(path + \"/tmdb_5000_credits.csv\")\n",
    "\n",
    "#load movies dataset\n",
    "movies_df = pd.read_csv(path + \"/tmdb_5000_movies.csv\")"
   ]
  },
  {
   "cell_type": "code",
   "execution_count": null,
   "id": "ac11b03c",
   "metadata": {},
   "outputs": [],
   "source": [
    "#print the first five record of movies dataset\n",
    "movies_df.head()"
   ]
  },
  {
   "cell_type": "code",
   "execution_count": null,
   "id": "899fbad1",
   "metadata": {},
   "outputs": [],
   "source": [
    "#print the first five record of credit dataset\n",
    "credits_df.head()"
   ]
  },
  {
   "cell_type": "code",
   "execution_count": null,
   "id": "cf01c3ba",
   "metadata": {},
   "outputs": [],
   "source": [
    "#merging the both dataframes\n",
    "credits_df.columns = ['id', 'title', 'cast', 'crew']\n",
    "movies_df = movies_df.merge(credits_df, on=\"id\")"
   ]
  },
  {
   "cell_type": "code",
   "execution_count": null,
   "id": "192c4275",
   "metadata": {},
   "outputs": [],
   "source": [
    "movies_df.head()"
   ]
  },
  {
   "cell_type": "code",
   "execution_count": null,
   "id": "0f8ab7a9",
   "metadata": {},
   "outputs": [],
   "source": [
    "from ast import literal_eval\n",
    "features = [\"cast\", \"crew\", \"keywords\", \"genres\"]\n",
    "\n",
    "for feature in features:\n",
    "    \n",
    "    #literal_eval converted the string of brackets and curly braces into lists of dictionary objects\n",
    "    movies_df[feature] = movies_df[feature].apply(literal_eval)\n",
    "    "
   ]
  },
  {
   "cell_type": "code",
   "execution_count": null,
   "id": "409e9bd4",
   "metadata": {
    "scrolled": true
   },
   "outputs": [],
   "source": [
    " movies_df[features].head(10)"
   ]
  },
  {
   "cell_type": "code",
   "execution_count": null,
   "id": "fbad2810",
   "metadata": {},
   "outputs": [],
   "source": [
    "def get_director(x):\n",
    "    for i in x:\n",
    "        if i[\"job\"] == \"Director\":\n",
    "            return i[\"name\"]\n",
    "        #return np.nan"
   ]
  },
  {
   "cell_type": "code",
   "execution_count": null,
   "id": "0edfd395",
   "metadata": {},
   "outputs": [],
   "source": [
    "def get_list(x):\n",
    "    if isinstance(x, list):\n",
    "        names = [i[\"name\"] for i in x]\n",
    "        \n",
    "        if len(names) > 3:\n",
    "            names = names[:3]\n",
    "            \n",
    "            return names\n",
    "        return []\n",
    "            "
   ]
  },
  {
   "cell_type": "code",
   "execution_count": null,
   "id": "c45a4162",
   "metadata": {},
   "outputs": [],
   "source": [
    "movies_df[\"director\"] = movies_df[\"crew\"].apply(get_director)\n",
    "\n",
    "features = [\"cast\", \"keywords\", \"genres\"]\n",
    "for feature in features:\n",
    "    \n",
    "    #apply() is used to apply a function\n",
    "    movies_df[feature] = movies_df[feature].apply(get_list)"
   ]
  },
  {
   "cell_type": "code",
   "execution_count": null,
   "id": "ca3c85b9",
   "metadata": {},
   "outputs": [],
   "source": [
    "movies_df[['original_title', 'cast', 'director', 'keywords', 'genres']].head()"
   ]
  },
  {
   "cell_type": "code",
   "execution_count": null,
   "id": "61a3cd6b",
   "metadata": {},
   "outputs": [],
   "source": [
    "def clean_data(row):\n",
    "    if isinstance(row, list):\n",
    "        return [str.lower(i.replace(\" \",\"\")) for i in row]\n",
    "    else:\n",
    "        if isinstance(row, str):\n",
    "            return str.lower(row.replace(\" \", \"\"))\n",
    "        else:\n",
    "            return \"\"\n",
    "        \n",
    "features = ['cast', 'keywords', 'director', 'genres']\n",
    "for feature in features:\n",
    "    movies_df[feature] = movies_df[feature].apply(clean_data)"
   ]
  },
  {
   "cell_type": "code",
   "execution_count": null,
   "id": "3f98e170",
   "metadata": {},
   "outputs": [],
   "source": [
    "def create_soup(features):\n",
    "    return ' '.join(features['keywords']) + ' '+ ' '.join(features['cast']) + ' ' + features['director'] + ' ' + ' '.join(features['genres'])\n",
    "\n",
    "movies_df[\"soup\"] = movies_df.apply(create_soup, axis=1)\n",
    "print(movies_df[\"soup\"].head())"
   ]
  },
  {
   "cell_type": "code",
   "execution_count": null,
   "id": "f24f379a",
   "metadata": {},
   "outputs": [],
   "source": [
    "from sklearn.feature_extraction.text import CountVectorizer\n",
    "from sklearn.metrics.pairwise import cosine_similarity\n",
    "\n",
    "#remove unwanted english words\n",
    "count_vectorizer = CountVectorizer(stop_words=\"english\")\n",
    "\n",
    "#Construct the required matrix by fitting and transforming the data\n",
    "count_matrix = count_vectorizer.fit_transform(movies_df[\"soup\"])\n",
    "\n",
    "print(count_matrix.shape)\n",
    "\n",
    "cosine_sim = cosine_similarity(count_matrix, count_matrix)\n",
    "print(cosine_sim.shape)\n",
    "\n",
    "movies_df = movies_df.reset_index()\n",
    "indices = pd.Series(movies_df.index, index=movies_df['original_title'])"
   ]
  },
  {
   "cell_type": "code",
   "execution_count": null,
   "id": "fe4d7fcb",
   "metadata": {},
   "outputs": [],
   "source": [
    "#Construct a reverse map of indices and movie titles\n",
    "#drop_duplicates() removes duplicate row\n",
    "indices = pd.Series(movies_df.index, index=movies_df[\"original_title\"]).drop_duplicates() \n",
    "print(indices.head())"
   ]
  },
  {
   "cell_type": "code",
   "execution_count": null,
   "id": "09411fde",
   "metadata": {},
   "outputs": [],
   "source": [
    "# Function that takes in movie title as input and output the similar movies\n",
    "def get_recommendations(title, cosine_sim = cosine_sim):\n",
    "    \n",
    "    # Get the index of the movie that matches the title\n",
    "    idx = indices[title]\n",
    "    \n",
    "    # Get the pairwsie similarity scores of all movies with that movie\n",
    "    similarity_scores = list(enumerate(cosine_sim[idx]))\n",
    "    \n",
    "    # Sort the movies based on the similarity scores\n",
    "    similarity_scores = sorted(similarity_scores, key=lambda x: x[1], reverse=True)\n",
    "    \n",
    "    # Get the scores of the 15 most similar movies\n",
    "    similarity_scores=similarity_scores[1:15]\n",
    "    \n",
    "    #get the movie indices\n",
    "    movies_indices = [ind[0] for ind in similarity_scores]\n",
    "    \n",
    "    # Return the top 15 most similar movies\n",
    "    movies = movies_df[\"original_title\"].iloc[movies_indices]\n",
    "    return movies\n",
    "\n",
    "#taking user input from user\n",
    "movie_name = input('enter movie title for which you want recommendation:' )\n",
    "\n",
    "print(\"*****************************\")\n",
    "print(\"@@@@@ RECOMMENDATION @@@@@\")\n",
    "print(\"recommending movies for %s\" % movie_name)\n",
    "#print(movie_name);\n",
    "print(get_recommendations(movie_name, cosine_sim))\n"
   ]
  },
  {
   "cell_type": "code",
   "execution_count": null,
   "id": "481a0d13",
   "metadata": {},
   "outputs": [],
   "source": []
  },
  {
   "cell_type": "code",
   "execution_count": null,
   "id": "0f803f6f",
   "metadata": {},
   "outputs": [],
   "source": []
  },
  {
   "cell_type": "code",
   "execution_count": null,
   "id": "899f36f2",
   "metadata": {},
   "outputs": [],
   "source": []
  }
 ],
 "metadata": {
  "kernelspec": {
   "display_name": "Python 3",
   "language": "python",
   "name": "python3"
  },
  "language_info": {
   "codemirror_mode": {
    "name": "ipython",
    "version": 3
   },
   "file_extension": ".py",
   "mimetype": "text/x-python",
   "name": "python",
   "nbconvert_exporter": "python",
   "pygments_lexer": "ipython3",
   "version": "3.8.8"
  }
 },
 "nbformat": 4,
 "nbformat_minor": 5
}
